{
  "nbformat": 4,
  "nbformat_minor": 5,
  "metadata": {
    "kernelspec": {
      "display_name": "Python 3",
      "language": "python",
      "name": "python3"
    },
    "language_info": {
      "codemirror_mode": {
        "name": "ipython",
        "version": 3
      },
      "file_extension": ".py",
      "mimetype": "text/x-python",
      "name": "python",
      "nbconvert_exporter": "python",
      "pygments_lexer": "ipython3",
      "version": "3.8.8"
    },
    "colab": {
      "name": "Untitled.ipynb",
      "provenance": []
    },
    "accelerator": "GPU"
  },
  "cells": [
    {
      "cell_type": "code",
      "metadata": {
        "id": "tCopwJQnP6x-",
        "outputId": "c46c0fa0-3c69-468b-ea04-61c50e741486",
        "colab": {
          "base_uri": "https://localhost:8080/"
        }
      },
      "source": [
        "if 1:\n",
        "  !nvidia-smi\n",
        "\n",
        "  !pip install -Uqq fastbook\n",
        "  import fastbook\n",
        "  fastbook.setup_book\n",
        "\n",
        "  from google.colab import drive\n",
        "  drive.mount('/content/drive')"
      ],
      "id": "tCopwJQnP6x-",
      "execution_count": 2,
      "outputs": [
        {
          "output_type": "stream",
          "text": [
            "Fri May  7 19:16:12 2021       \n",
            "+-----------------------------------------------------------------------------+\n",
            "| NVIDIA-SMI 465.19.01    Driver Version: 460.32.03    CUDA Version: 11.2     |\n",
            "|-------------------------------+----------------------+----------------------+\n",
            "| GPU  Name        Persistence-M| Bus-Id        Disp.A | Volatile Uncorr. ECC |\n",
            "| Fan  Temp  Perf  Pwr:Usage/Cap|         Memory-Usage | GPU-Util  Compute M. |\n",
            "|                               |                      |               MIG M. |\n",
            "|===============================+======================+======================|\n",
            "|   0  Tesla T4            Off  | 00000000:00:04.0 Off |                    0 |\n",
            "| N/A   38C    P8     9W /  70W |      3MiB / 15109MiB |      0%      Default |\n",
            "|                               |                      |                  N/A |\n",
            "+-------------------------------+----------------------+----------------------+\n",
            "                                                                               \n",
            "+-----------------------------------------------------------------------------+\n",
            "| Processes:                                                                  |\n",
            "|  GPU   GI   CI        PID   Type   Process name                  GPU Memory |\n",
            "|        ID   ID                                                   Usage      |\n",
            "|=============================================================================|\n",
            "|  No running processes found                                                 |\n",
            "+-----------------------------------------------------------------------------+\n",
            "Mounted at /content/drive\n"
          ],
          "name": "stdout"
        }
      ]
    },
    {
      "cell_type": "code",
      "metadata": {
        "id": "459d289e-00b9-4cd2-9797-6a7113897f21"
      },
      "source": [
        "from fastai.tabular.all import *"
      ],
      "id": "459d289e-00b9-4cd2-9797-6a7113897f21",
      "execution_count": 3,
      "outputs": []
    },
    {
      "cell_type": "code",
      "metadata": {
        "id": "ASI6t4OaiDuB"
      },
      "source": [
        "creds = '{\"username\":\"sandermann\",\"key\":\"ca5b5b32a089bcc0a142517f68c433a6\"}'"
      ],
      "id": "ASI6t4OaiDuB",
      "execution_count": null,
      "outputs": []
    },
    {
      "cell_type": "code",
      "metadata": {
        "id": "RWbkjgPziEKn"
      },
      "source": [
        "cred_path = Path('~/.kaggle/kaggle.json').expanduser()\n",
        "if not cred_path.exists():\n",
        "  cred_path.parent.mkdir(exist_ok=True)\n",
        "  cred_path.write_text(creds)\n",
        "  cred_path.chmod(0o600)"
      ],
      "id": "RWbkjgPziEKn",
      "execution_count": null,
      "outputs": []
    },
    {
      "cell_type": "code",
      "metadata": {
        "id": "79c8a228-6267-4de1-a9dc-aaedea988e5d",
        "outputId": "6e535141-cfa6-44b0-bc5b-5436f9b8c91e",
        "colab": {
          "base_uri": "https://localhost:8080/",
          "height": 303
        }
      },
      "source": [
        "from kaggle import *"
      ],
      "id": "79c8a228-6267-4de1-a9dc-aaedea988e5d",
      "execution_count": 4,
      "outputs": [
        {
          "output_type": "error",
          "ename": "OSError",
          "evalue": "ignored",
          "traceback": [
            "\u001b[0;31m---------------------------------------------------------------------------\u001b[0m",
            "\u001b[0;31mOSError\u001b[0m                                   Traceback (most recent call last)",
            "\u001b[0;32m<ipython-input-4-50b9388db1fb>\u001b[0m in \u001b[0;36m<module>\u001b[0;34m()\u001b[0m\n\u001b[0;32m----> 1\u001b[0;31m \u001b[0;32mfrom\u001b[0m \u001b[0mkaggle\u001b[0m \u001b[0;32mimport\u001b[0m \u001b[0;34m*\u001b[0m\u001b[0;34m\u001b[0m\u001b[0;34m\u001b[0m\u001b[0m\n\u001b[0m",
            "\u001b[0;32m/usr/local/lib/python3.7/dist-packages/kaggle/__init__.py\u001b[0m in \u001b[0;36m<module>\u001b[0;34m()\u001b[0m\n\u001b[1;32m     21\u001b[0m \u001b[0;34m\u001b[0m\u001b[0m\n\u001b[1;32m     22\u001b[0m \u001b[0mapi\u001b[0m \u001b[0;34m=\u001b[0m \u001b[0mKaggleApi\u001b[0m\u001b[0;34m(\u001b[0m\u001b[0mApiClient\u001b[0m\u001b[0;34m(\u001b[0m\u001b[0;34m)\u001b[0m\u001b[0;34m)\u001b[0m\u001b[0;34m\u001b[0m\u001b[0;34m\u001b[0m\u001b[0m\n\u001b[0;32m---> 23\u001b[0;31m \u001b[0mapi\u001b[0m\u001b[0;34m.\u001b[0m\u001b[0mauthenticate\u001b[0m\u001b[0;34m(\u001b[0m\u001b[0;34m)\u001b[0m\u001b[0;34m\u001b[0m\u001b[0;34m\u001b[0m\u001b[0m\n\u001b[0m",
            "\u001b[0;32m/usr/local/lib/python3.7/dist-packages/kaggle/api/kaggle_api_extended.py\u001b[0m in \u001b[0;36mauthenticate\u001b[0;34m(self)\u001b[0m\n\u001b[1;32m    164\u001b[0m                 raise IOError('Could not find {}. Make sure it\\'s located in'\n\u001b[1;32m    165\u001b[0m                               ' {}. Or use the environment method.'.format(\n\u001b[0;32m--> 166\u001b[0;31m                                   self.config_file, self.config_dir))\n\u001b[0m\u001b[1;32m    167\u001b[0m \u001b[0;34m\u001b[0m\u001b[0m\n\u001b[1;32m    168\u001b[0m         \u001b[0;31m# Step 3: load into configuration!\u001b[0m\u001b[0;34m\u001b[0m\u001b[0;34m\u001b[0m\u001b[0;34m\u001b[0m\u001b[0m\n",
            "\u001b[0;31mOSError\u001b[0m: Could not find kaggle.json. Make sure it's located in /root/.kaggle. Or use the environment method."
          ]
        }
      ]
    },
    {
      "cell_type": "code",
      "metadata": {
        "id": "03e966a6-416c-4519-ac0d-248ad01bbb66"
      },
      "source": [
        "!kaggle competitions download -c tabular-playground-series-apr-2021"
      ],
      "id": "03e966a6-416c-4519-ac0d-248ad01bbb66",
      "execution_count": null,
      "outputs": []
    },
    {
      "cell_type": "code",
      "metadata": {
        "id": "d136af70-34ea-4721-9b35-839c400a415d"
      },
      "source": [
        "path = URLs.path('playground_april')\n",
        "path"
      ],
      "id": "d136af70-34ea-4721-9b35-839c400a415d",
      "execution_count": null,
      "outputs": []
    },
    {
      "cell_type": "code",
      "metadata": {
        "id": "uZgOZGxorKiW"
      },
      "source": [
        "path.ls()"
      ],
      "id": "uZgOZGxorKiW",
      "execution_count": null,
      "outputs": []
    },
    {
      "cell_type": "code",
      "metadata": {
        "id": "d68279b2-4e00-45bf-9bf9-a05e15f43c22"
      },
      "source": [
        "file_extract(path/'tabular-playground-series-apr-2021.zip')"
      ],
      "id": "d68279b2-4e00-45bf-9bf9-a05e15f43c22",
      "execution_count": null,
      "outputs": []
    },
    {
      "cell_type": "code",
      "metadata": {
        "id": "b220cd91-1c0f-460d-89c1-b6e0f62bab47"
      },
      "source": [
        "df = pd.read_csv(path/'train.csv')"
      ],
      "id": "b220cd91-1c0f-460d-89c1-b6e0f62bab47",
      "execution_count": null,
      "outputs": []
    },
    {
      "cell_type": "code",
      "metadata": {
        "id": "0b591fb7-03fe-4078-8084-b99bcee28d6e"
      },
      "source": [
        "df.head()"
      ],
      "id": "0b591fb7-03fe-4078-8084-b99bcee28d6e",
      "execution_count": null,
      "outputs": []
    },
    {
      "cell_type": "code",
      "metadata": {
        "id": "f8e2befd-ae45-4f1c-b530-e16b6ee2b200"
      },
      "source": [
        "df.shape"
      ],
      "id": "f8e2befd-ae45-4f1c-b530-e16b6ee2b200",
      "execution_count": null,
      "outputs": []
    },
    {
      "cell_type": "code",
      "metadata": {
        "id": "398dd4e4-4cbe-4190-8cee-4ae954c6d3e3"
      },
      "source": [
        "df.columns"
      ],
      "id": "398dd4e4-4cbe-4190-8cee-4ae954c6d3e3",
      "execution_count": null,
      "outputs": []
    },
    {
      "cell_type": "code",
      "metadata": {
        "id": "5e6e8b69-4595-48e5-8331-eedf65de774e"
      },
      "source": [
        "dep_var = 'Survived'"
      ],
      "id": "5e6e8b69-4595-48e5-8331-eedf65de774e",
      "execution_count": null,
      "outputs": []
    },
    {
      "cell_type": "code",
      "metadata": {
        "id": "9657d6b1-6eca-4517-b4eb-be1608526f84"
      },
      "source": [
        "procs = [Categorify, FillMissing, Normalize]"
      ],
      "id": "9657d6b1-6eca-4517-b4eb-be1608526f84",
      "execution_count": null,
      "outputs": []
    },
    {
      "cell_type": "code",
      "metadata": {
        "id": "dd74e0f2-77a3-4595-9bea-b1a9e60d072f"
      },
      "source": [
        "cont, cat = cont_cat_split(df, dep_var=dep_var)"
      ],
      "id": "dd74e0f2-77a3-4595-9bea-b1a9e60d072f",
      "execution_count": null,
      "outputs": []
    },
    {
      "cell_type": "code",
      "metadata": {
        "id": "277ccbf7-44f5-4ed1-8e9f-ac5235c34246"
      },
      "source": [
        "idx = np.random.permutation(range(len(df))).squeeze()"
      ],
      "id": "277ccbf7-44f5-4ed1-8e9f-ac5235c34246",
      "execution_count": null,
      "outputs": []
    },
    {
      "cell_type": "code",
      "metadata": {
        "id": "99b6f2ac-a897-4d38-baff-f062418e4f77"
      },
      "source": [
        "idx.shape"
      ],
      "id": "99b6f2ac-a897-4d38-baff-f062418e4f77",
      "execution_count": null,
      "outputs": []
    },
    {
      "cell_type": "code",
      "metadata": {
        "id": "b50e003b-bd95-4354-86e5-9f1dde3e5a29"
      },
      "source": [
        "to = TabularPandas(df, procs, cat, cont, dep_var, splits=[list(idx[:80000]), list(idx[80000:])])"
      ],
      "id": "b50e003b-bd95-4354-86e5-9f1dde3e5a29",
      "execution_count": null,
      "outputs": []
    },
    {
      "cell_type": "code",
      "metadata": {
        "id": "89e7df46-6663-4280-90db-85d0a92c7ea1"
      },
      "source": [
        "len(to.train), len(to.valid)"
      ],
      "id": "89e7df46-6663-4280-90db-85d0a92c7ea1",
      "execution_count": null,
      "outputs": []
    },
    {
      "cell_type": "code",
      "metadata": {
        "id": "51405224-46b4-4d69-a443-de08413a47a9"
      },
      "source": [
        "to.show(3)"
      ],
      "id": "51405224-46b4-4d69-a443-de08413a47a9",
      "execution_count": null,
      "outputs": []
    },
    {
      "cell_type": "code",
      "metadata": {
        "id": "8ec160dc-1d99-44fc-a650-8e4922faba59"
      },
      "source": [
        "dls = to.dataloaders(1024)"
      ],
      "id": "8ec160dc-1d99-44fc-a650-8e4922faba59",
      "execution_count": null,
      "outputs": []
    },
    {
      "cell_type": "code",
      "metadata": {
        "id": "fc0d48dc-dafd-471d-9845-7de8b3f36529"
      },
      "source": [
        "y = to.train.y\n",
        "y.min(), y.max()"
      ],
      "id": "fc0d48dc-dafd-471d-9845-7de8b3f36529",
      "execution_count": null,
      "outputs": []
    },
    {
      "cell_type": "code",
      "metadata": {
        "id": "76713f0c-f2af-4b42-bd77-4a0ee5169bbe"
      },
      "source": [
        "learn = tabular_learner(dls, [500,250], n_out=2, loss_func = CrossEntropyLossFlat(), metrics=accuracy)"
      ],
      "id": "76713f0c-f2af-4b42-bd77-4a0ee5169bbe",
      "execution_count": null,
      "outputs": []
    },
    {
      "cell_type": "code",
      "metadata": {
        "id": "a8ace70c-dba8-4a30-a608-4d96cd324272"
      },
      "source": [
        "learn.lr_find(end_lr=1)"
      ],
      "id": "a8ace70c-dba8-4a30-a608-4d96cd324272",
      "execution_count": null,
      "outputs": []
    },
    {
      "cell_type": "code",
      "metadata": {
        "id": "8d4925aa-8bd8-4d2a-8420-55030347398d"
      },
      "source": [
        "learn.fit_one_cycle(5, 1e-3, wd=1e-3)"
      ],
      "id": "8d4925aa-8bd8-4d2a-8420-55030347398d",
      "execution_count": null,
      "outputs": []
    },
    {
      "cell_type": "code",
      "metadata": {
        "id": "17be834c-e9de-48dd-8839-101464cb7d3f"
      },
      "source": [
        "learn.recorder.plot_loss()"
      ],
      "id": "17be834c-e9de-48dd-8839-101464cb7d3f",
      "execution_count": null,
      "outputs": []
    },
    {
      "cell_type": "code",
      "metadata": {
        "id": "a95903a7-8d52-48f1-ba3b-9c7731aa84ce"
      },
      "source": [
        ""
      ],
      "id": "a95903a7-8d52-48f1-ba3b-9c7731aa84ce",
      "execution_count": null,
      "outputs": []
    }
  ]
}