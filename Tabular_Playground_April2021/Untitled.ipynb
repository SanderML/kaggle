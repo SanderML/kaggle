{
  "nbformat": 4,
  "nbformat_minor": 5,
  "metadata": {
    "kernelspec": {
      "display_name": "Python 3",
      "language": "python",
      "name": "python3"
    },
    "language_info": {
      "codemirror_mode": {
        "name": "ipython",
        "version": 3
      },
      "file_extension": ".py",
      "mimetype": "text/x-python",
      "name": "python",
      "nbconvert_exporter": "python",
      "pygments_lexer": "ipython3",
      "version": "3.8.8"
    },
    "colab": {
      "name": "Untitled.ipynb",
      "provenance": []
    },
    "accelerator": "GPU"
  },
  "cells": [
    {
      "cell_type": "code",
      "metadata": {
        "id": "tCopwJQnP6x-",
        "colab": {
          "base_uri": "https://localhost:8080/"
        },
        "outputId": "797d2691-5316-4404-8a81-2bd959049156"
      },
      "source": [
        "if 1:\n",
        "  !nvidia-smi\n",
        "\n",
        "  !pip install -Uqq fastbook\n",
        "  import fastbook\n",
        "  fastbook.setup_book\n",
        "\n",
        "  from google.colab import drive\n",
        "  #drive.mount('/content/drive')"
      ],
      "id": "tCopwJQnP6x-",
      "execution_count": 1,
      "outputs": [
        {
          "output_type": "stream",
          "text": [
            "Sun May  9 17:04:22 2021       \n",
            "+-----------------------------------------------------------------------------+\n",
            "| NVIDIA-SMI 465.19.01    Driver Version: 460.32.03    CUDA Version: 11.2     |\n",
            "|-------------------------------+----------------------+----------------------+\n",
            "| GPU  Name        Persistence-M| Bus-Id        Disp.A | Volatile Uncorr. ECC |\n",
            "| Fan  Temp  Perf  Pwr:Usage/Cap|         Memory-Usage | GPU-Util  Compute M. |\n",
            "|                               |                      |               MIG M. |\n",
            "|===============================+======================+======================|\n",
            "|   0  Tesla T4            Off  | 00000000:00:04.0 Off |                    0 |\n",
            "| N/A   64C    P8    11W /  70W |      0MiB / 15109MiB |      0%      Default |\n",
            "|                               |                      |                  N/A |\n",
            "+-------------------------------+----------------------+----------------------+\n",
            "                                                                               \n",
            "+-----------------------------------------------------------------------------+\n",
            "| Processes:                                                                  |\n",
            "|  GPU   GI   CI        PID   Type   Process name                  GPU Memory |\n",
            "|        ID   ID                                                   Usage      |\n",
            "|=============================================================================|\n",
            "|  No running processes found                                                 |\n",
            "+-----------------------------------------------------------------------------+\n",
            "\u001b[K     |████████████████████████████████| 727kB 7.4MB/s \n",
            "\u001b[K     |████████████████████████████████| 1.2MB 10.3MB/s \n",
            "\u001b[K     |████████████████████████████████| 51kB 7.5MB/s \n",
            "\u001b[K     |████████████████████████████████| 204kB 35.1MB/s \n",
            "\u001b[K     |████████████████████████████████| 51kB 6.8MB/s \n",
            "\u001b[K     |████████████████████████████████| 61kB 9.7MB/s \n",
            "\u001b[?25h"
          ],
          "name": "stdout"
        }
      ]
    },
    {
      "cell_type": "code",
      "metadata": {
        "id": "459d289e-00b9-4cd2-9797-6a7113897f21"
      },
      "source": [
        "from fastai.tabular.all import *"
      ],
      "id": "459d289e-00b9-4cd2-9797-6a7113897f21",
      "execution_count": 2,
      "outputs": []
    },
    {
      "cell_type": "code",
      "metadata": {
        "id": "ASI6t4OaiDuB"
      },
      "source": [
        "creds = '{\"username\":\"sandermann\",\"key\":\"34a608a514ebc417693865ab9a19512b\"}'"
      ],
      "id": "ASI6t4OaiDuB",
      "execution_count": 3,
      "outputs": []
    },
    {
      "cell_type": "code",
      "metadata": {
        "id": "mnax1dp9vMHW"
      },
      "source": [
        "#shutil.rmtree(cred_path.parent)"
      ],
      "id": "mnax1dp9vMHW",
      "execution_count": 4,
      "outputs": []
    },
    {
      "cell_type": "code",
      "metadata": {
        "id": "RWbkjgPziEKn"
      },
      "source": [
        "cred_path = Path('~/.kaggle/kaggle.json').expanduser()\n",
        "if not cred_path.exists():\n",
        "  cred_path.parent.mkdir(exist_ok=True)\n",
        "  cred_path.write_text(creds)\n",
        "  cred_path.chmod(0o600)"
      ],
      "id": "RWbkjgPziEKn",
      "execution_count": 5,
      "outputs": []
    },
    {
      "cell_type": "code",
      "metadata": {
        "id": "79c8a228-6267-4de1-a9dc-aaedea988e5d"
      },
      "source": [
        "from kaggle import *"
      ],
      "id": "79c8a228-6267-4de1-a9dc-aaedea988e5d",
      "execution_count": 6,
      "outputs": []
    },
    {
      "cell_type": "code",
      "metadata": {
        "id": "03e966a6-416c-4519-ac0d-248ad01bbb66"
      },
      "source": [
        "#!kaggle competitions download -c tabular-playground-series-apr-2021"
      ],
      "id": "03e966a6-416c-4519-ac0d-248ad01bbb66",
      "execution_count": 7,
      "outputs": []
    },
    {
      "cell_type": "code",
      "metadata": {
        "id": "d68279b2-4e00-45bf-9bf9-a05e15f43c22"
      },
      "source": [
        "#file_extract(path/'tabular-playground-series-apr-2021.zip')"
      ],
      "id": "d68279b2-4e00-45bf-9bf9-a05e15f43c22",
      "execution_count": 8,
      "outputs": []
    },
    {
      "cell_type": "code",
      "metadata": {
        "id": "d136af70-34ea-4721-9b35-839c400a415d",
        "colab": {
          "base_uri": "https://localhost:8080/"
        },
        "outputId": "5acf47c7-4dff-465e-b4f0-e53b6f9cbb3b"
      },
      "source": [
        "path = URLs.path('playground_april')\n",
        "path"
      ],
      "id": "d136af70-34ea-4721-9b35-839c400a415d",
      "execution_count": 9,
      "outputs": [
        {
          "output_type": "execute_result",
          "data": {
            "text/plain": [
              "Path('/root/.fastai/archive/playground_april')"
            ]
          },
          "metadata": {
            "tags": []
          },
          "execution_count": 9
        }
      ]
    },
    {
      "cell_type": "code",
      "metadata": {
        "id": "TFIYuv9Eu6VA"
      },
      "source": [
        "#shutil.rmtree(path)"
      ],
      "id": "TFIYuv9Eu6VA",
      "execution_count": 10,
      "outputs": []
    },
    {
      "cell_type": "code",
      "metadata": {
        "id": "b8CJDVcZtysr",
        "colab": {
          "base_uri": "https://localhost:8080/"
        },
        "outputId": "201f0f01-3f6f-4444-9237-6ee36c0ec36a"
      },
      "source": [
        "if not path.exists():\n",
        "  path.mkdir(parents=True)\n",
        "  api.competition_download_cli('tabular-playground-series-apr-2021', path=path)\n",
        "  file_extract(path/'tabular-playground-series-apr-2021.zip')\n",
        "\n",
        "path.ls()"
      ],
      "id": "b8CJDVcZtysr",
      "execution_count": 11,
      "outputs": [
        {
          "output_type": "stream",
          "text": [
            "100%|██████████| 4.41M/4.41M [00:00<00:00, 35.4MB/s]"
          ],
          "name": "stderr"
        },
        {
          "output_type": "stream",
          "text": [
            "Downloading tabular-playground-series-apr-2021.zip to /root/.fastai/archive/playground_april\n",
            "\n"
          ],
          "name": "stdout"
        },
        {
          "output_type": "stream",
          "text": [
            "\n"
          ],
          "name": "stderr"
        },
        {
          "output_type": "execute_result",
          "data": {
            "text/plain": [
              "(#4) [Path('/root/.fastai/archive/playground_april/train.csv'),Path('/root/.fastai/archive/playground_april/tabular-playground-series-apr-2021.zip'),Path('/root/.fastai/archive/playground_april/test.csv'),Path('/root/.fastai/archive/playground_april/sample_submission.csv')]"
            ]
          },
          "metadata": {
            "tags": []
          },
          "execution_count": 11
        }
      ]
    },
    {
      "cell_type": "code",
      "metadata": {
        "id": "b220cd91-1c0f-460d-89c1-b6e0f62bab47"
      },
      "source": [
        "df = pd.read_csv(path/'train.csv', low_memory=False)"
      ],
      "id": "b220cd91-1c0f-460d-89c1-b6e0f62bab47",
      "execution_count": 124,
      "outputs": []
    },
    {
      "cell_type": "code",
      "metadata": {
        "id": "5e6e8b69-4595-48e5-8331-eedf65de774e"
      },
      "source": [
        "dep_var = 'Survived'"
      ],
      "id": "5e6e8b69-4595-48e5-8331-eedf65de774e",
      "execution_count": 125,
      "outputs": []
    },
    {
      "cell_type": "code",
      "metadata": {
        "id": "0b591fb7-03fe-4078-8084-b99bcee28d6e",
        "colab": {
          "base_uri": "https://localhost:8080/",
          "height": 195
        },
        "outputId": "ce212e10-2d5a-478d-f874-db5c955e36df"
      },
      "source": [
        "df.head()"
      ],
      "id": "0b591fb7-03fe-4078-8084-b99bcee28d6e",
      "execution_count": 126,
      "outputs": [
        {
          "output_type": "execute_result",
          "data": {
            "text/html": [
              "<div>\n",
              "<style scoped>\n",
              "    .dataframe tbody tr th:only-of-type {\n",
              "        vertical-align: middle;\n",
              "    }\n",
              "\n",
              "    .dataframe tbody tr th {\n",
              "        vertical-align: top;\n",
              "    }\n",
              "\n",
              "    .dataframe thead th {\n",
              "        text-align: right;\n",
              "    }\n",
              "</style>\n",
              "<table border=\"1\" class=\"dataframe\">\n",
              "  <thead>\n",
              "    <tr style=\"text-align: right;\">\n",
              "      <th></th>\n",
              "      <th>PassengerId</th>\n",
              "      <th>Survived</th>\n",
              "      <th>Pclass</th>\n",
              "      <th>Name</th>\n",
              "      <th>Sex</th>\n",
              "      <th>Age</th>\n",
              "      <th>SibSp</th>\n",
              "      <th>Parch</th>\n",
              "      <th>Ticket</th>\n",
              "      <th>Fare</th>\n",
              "      <th>Cabin</th>\n",
              "      <th>Embarked</th>\n",
              "    </tr>\n",
              "  </thead>\n",
              "  <tbody>\n",
              "    <tr>\n",
              "      <th>0</th>\n",
              "      <td>0</td>\n",
              "      <td>1</td>\n",
              "      <td>1</td>\n",
              "      <td>Oconnor, Frankie</td>\n",
              "      <td>male</td>\n",
              "      <td>NaN</td>\n",
              "      <td>2</td>\n",
              "      <td>0</td>\n",
              "      <td>209245</td>\n",
              "      <td>27.14</td>\n",
              "      <td>C12239</td>\n",
              "      <td>S</td>\n",
              "    </tr>\n",
              "    <tr>\n",
              "      <th>1</th>\n",
              "      <td>1</td>\n",
              "      <td>0</td>\n",
              "      <td>3</td>\n",
              "      <td>Bryan, Drew</td>\n",
              "      <td>male</td>\n",
              "      <td>NaN</td>\n",
              "      <td>0</td>\n",
              "      <td>0</td>\n",
              "      <td>27323</td>\n",
              "      <td>13.35</td>\n",
              "      <td>NaN</td>\n",
              "      <td>S</td>\n",
              "    </tr>\n",
              "    <tr>\n",
              "      <th>2</th>\n",
              "      <td>2</td>\n",
              "      <td>0</td>\n",
              "      <td>3</td>\n",
              "      <td>Owens, Kenneth</td>\n",
              "      <td>male</td>\n",
              "      <td>0.33</td>\n",
              "      <td>1</td>\n",
              "      <td>2</td>\n",
              "      <td>CA 457703</td>\n",
              "      <td>71.29</td>\n",
              "      <td>NaN</td>\n",
              "      <td>S</td>\n",
              "    </tr>\n",
              "    <tr>\n",
              "      <th>3</th>\n",
              "      <td>3</td>\n",
              "      <td>0</td>\n",
              "      <td>3</td>\n",
              "      <td>Kramer, James</td>\n",
              "      <td>male</td>\n",
              "      <td>19.00</td>\n",
              "      <td>0</td>\n",
              "      <td>0</td>\n",
              "      <td>A. 10866</td>\n",
              "      <td>13.04</td>\n",
              "      <td>NaN</td>\n",
              "      <td>S</td>\n",
              "    </tr>\n",
              "    <tr>\n",
              "      <th>4</th>\n",
              "      <td>4</td>\n",
              "      <td>1</td>\n",
              "      <td>3</td>\n",
              "      <td>Bond, Michael</td>\n",
              "      <td>male</td>\n",
              "      <td>25.00</td>\n",
              "      <td>0</td>\n",
              "      <td>0</td>\n",
              "      <td>427635</td>\n",
              "      <td>7.76</td>\n",
              "      <td>NaN</td>\n",
              "      <td>S</td>\n",
              "    </tr>\n",
              "  </tbody>\n",
              "</table>\n",
              "</div>"
            ],
            "text/plain": [
              "   PassengerId  Survived  Pclass              Name   Sex    Age  SibSp  Parch  \\\n",
              "0            0         1       1  Oconnor, Frankie  male    NaN      2      0   \n",
              "1            1         0       3       Bryan, Drew  male    NaN      0      0   \n",
              "2            2         0       3    Owens, Kenneth  male   0.33      1      2   \n",
              "3            3         0       3     Kramer, James  male  19.00      0      0   \n",
              "4            4         1       3     Bond, Michael  male  25.00      0      0   \n",
              "\n",
              "      Ticket   Fare   Cabin Embarked  \n",
              "0     209245  27.14  C12239        S  \n",
              "1      27323  13.35     NaN        S  \n",
              "2  CA 457703  71.29     NaN        S  \n",
              "3   A. 10866  13.04     NaN        S  \n",
              "4     427635   7.76     NaN        S  "
            ]
          },
          "metadata": {
            "tags": []
          },
          "execution_count": 126
        }
      ]
    },
    {
      "cell_type": "code",
      "metadata": {
        "id": "wWiJt19CQ9Tv",
        "outputId": "c7bb3f1c-6a4c-4b1e-ec25-3c848c826c27",
        "colab": {
          "base_uri": "https://localhost:8080/"
        }
      },
      "source": [
        "df.isna().sum()"
      ],
      "id": "wWiJt19CQ9Tv",
      "execution_count": 152,
      "outputs": [
        {
          "output_type": "execute_result",
          "data": {
            "text/plain": [
              "Survived       0\n",
              "Pclass         0\n",
              "Sex            0\n",
              "Age         3292\n",
              "SibSp          0\n",
              "Parch          0\n",
              "Ticket      4623\n",
              "Fare         134\n",
              "Embarked     250\n",
              "dtype: int64"
            ]
          },
          "metadata": {
            "tags": []
          },
          "execution_count": 152
        }
      ]
    },
    {
      "cell_type": "code",
      "metadata": {
        "id": "0VVP3FA8wXtS",
        "colab": {
          "base_uri": "https://localhost:8080/"
        },
        "outputId": "95363fa3-bb01-476d-b897-55e53a28d875"
      },
      "source": [
        "df.info()"
      ],
      "id": "0VVP3FA8wXtS",
      "execution_count": 127,
      "outputs": [
        {
          "output_type": "stream",
          "text": [
            "<class 'pandas.core.frame.DataFrame'>\n",
            "RangeIndex: 100000 entries, 0 to 99999\n",
            "Data columns (total 12 columns):\n",
            " #   Column       Non-Null Count   Dtype  \n",
            "---  ------       --------------   -----  \n",
            " 0   PassengerId  100000 non-null  int64  \n",
            " 1   Survived     100000 non-null  int64  \n",
            " 2   Pclass       100000 non-null  int64  \n",
            " 3   Name         100000 non-null  object \n",
            " 4   Sex          100000 non-null  object \n",
            " 5   Age          96708 non-null   float64\n",
            " 6   SibSp        100000 non-null  int64  \n",
            " 7   Parch        100000 non-null  int64  \n",
            " 8   Ticket       95377 non-null   object \n",
            " 9   Fare         99866 non-null   float64\n",
            " 10  Cabin        32134 non-null   object \n",
            " 11  Embarked     99750 non-null   object \n",
            "dtypes: float64(2), int64(5), object(5)\n",
            "memory usage: 9.2+ MB\n"
          ],
          "name": "stdout"
        }
      ]
    },
    {
      "cell_type": "code",
      "metadata": {
        "id": "f8e2befd-ae45-4f1c-b530-e16b6ee2b200",
        "colab": {
          "base_uri": "https://localhost:8080/"
        },
        "outputId": "ffd183ce-f498-494c-f06d-8d7d75cd55da"
      },
      "source": [
        "df.shape"
      ],
      "id": "f8e2befd-ae45-4f1c-b530-e16b6ee2b200",
      "execution_count": 128,
      "outputs": [
        {
          "output_type": "execute_result",
          "data": {
            "text/plain": [
              "(100000, 12)"
            ]
          },
          "metadata": {
            "tags": []
          },
          "execution_count": 128
        }
      ]
    },
    {
      "cell_type": "code",
      "metadata": {
        "id": "398dd4e4-4cbe-4190-8cee-4ae954c6d3e3",
        "colab": {
          "base_uri": "https://localhost:8080/"
        },
        "outputId": "0d5b96c3-a131-4f31-cf1a-49fe3c0ff1ea"
      },
      "source": [
        "df.columns"
      ],
      "id": "398dd4e4-4cbe-4190-8cee-4ae954c6d3e3",
      "execution_count": 129,
      "outputs": [
        {
          "output_type": "execute_result",
          "data": {
            "text/plain": [
              "Index(['PassengerId', 'Survived', 'Pclass', 'Name', 'Sex', 'Age', 'SibSp',\n",
              "       'Parch', 'Ticket', 'Fare', 'Cabin', 'Embarked'],\n",
              "      dtype='object')"
            ]
          },
          "metadata": {
            "tags": []
          },
          "execution_count": 129
        }
      ]
    },
    {
      "cell_type": "code",
      "metadata": {
        "id": "QpLbzpz7wvNs"
      },
      "source": [
        "df.drop(['PassengerId', 'Name', 'Cabin'], axis=1, inplace=True)"
      ],
      "id": "QpLbzpz7wvNs",
      "execution_count": 130,
      "outputs": []
    },
    {
      "cell_type": "code",
      "metadata": {
        "id": "9657d6b1-6eca-4517-b4eb-be1608526f84"
      },
      "source": [
        "procs = [Categorify, FillMissing, Normalize]"
      ],
      "id": "9657d6b1-6eca-4517-b4eb-be1608526f84",
      "execution_count": 131,
      "outputs": []
    },
    {
      "cell_type": "code",
      "metadata": {
        "id": "dd74e0f2-77a3-4595-9bea-b1a9e60d072f"
      },
      "source": [
        "cont, cat = cont_cat_split(df, dep_var=dep_var)"
      ],
      "id": "dd74e0f2-77a3-4595-9bea-b1a9e60d072f",
      "execution_count": 132,
      "outputs": []
    },
    {
      "cell_type": "code",
      "metadata": {
        "id": "8ArMvmkKyEAt",
        "colab": {
          "base_uri": "https://localhost:8080/"
        },
        "outputId": "55c9820c-21d2-4c85-9487-78c6c4cd11ce"
      },
      "source": [
        "cont, cat"
      ],
      "id": "8ArMvmkKyEAt",
      "execution_count": 133,
      "outputs": [
        {
          "output_type": "execute_result",
          "data": {
            "text/plain": [
              "(['Age', 'Fare'], ['Pclass', 'Sex', 'SibSp', 'Parch', 'Ticket', 'Embarked'])"
            ]
          },
          "metadata": {
            "tags": []
          },
          "execution_count": 133
        }
      ]
    },
    {
      "cell_type": "code",
      "metadata": {
        "id": "277ccbf7-44f5-4ed1-8e9f-ac5235c34246"
      },
      "source": [
        "idx = np.random.permutation(range(len(df))).squeeze()"
      ],
      "id": "277ccbf7-44f5-4ed1-8e9f-ac5235c34246",
      "execution_count": 134,
      "outputs": []
    },
    {
      "cell_type": "code",
      "metadata": {
        "id": "99b6f2ac-a897-4d38-baff-f062418e4f77",
        "colab": {
          "base_uri": "https://localhost:8080/"
        },
        "outputId": "a1826a52-f116-40cf-cfb0-4bbab9768a31"
      },
      "source": [
        "idx.shape"
      ],
      "id": "99b6f2ac-a897-4d38-baff-f062418e4f77",
      "execution_count": 135,
      "outputs": [
        {
          "output_type": "execute_result",
          "data": {
            "text/plain": [
              "(100000,)"
            ]
          },
          "metadata": {
            "tags": []
          },
          "execution_count": 135
        }
      ]
    },
    {
      "cell_type": "code",
      "metadata": {
        "id": "b50e003b-bd95-4354-86e5-9f1dde3e5a29"
      },
      "source": [
        "to = TabularPandas(df, procs, cat, cont, dep_var, CategoryBlock(), splits=RandomSplitter(seed=42)(range_of(df)))"
      ],
      "id": "b50e003b-bd95-4354-86e5-9f1dde3e5a29",
      "execution_count": 136,
      "outputs": []
    },
    {
      "cell_type": "code",
      "metadata": {
        "id": "89e7df46-6663-4280-90db-85d0a92c7ea1",
        "colab": {
          "base_uri": "https://localhost:8080/"
        },
        "outputId": "6148b068-299a-42de-9afe-b4b57a1651dd"
      },
      "source": [
        "len(to.train), len(to.valid)"
      ],
      "id": "89e7df46-6663-4280-90db-85d0a92c7ea1",
      "execution_count": 137,
      "outputs": [
        {
          "output_type": "execute_result",
          "data": {
            "text/plain": [
              "(80000, 20000)"
            ]
          },
          "metadata": {
            "tags": []
          },
          "execution_count": 137
        }
      ]
    },
    {
      "cell_type": "code",
      "metadata": {
        "id": "51405224-46b4-4d69-a443-de08413a47a9",
        "colab": {
          "base_uri": "https://localhost:8080/",
          "height": 136
        },
        "outputId": "9364096d-859d-4818-91e8-88d51eebce9d"
      },
      "source": [
        "to.show(3)"
      ],
      "id": "51405224-46b4-4d69-a443-de08413a47a9",
      "execution_count": 138,
      "outputs": [
        {
          "output_type": "display_data",
          "data": {
            "text/html": [
              "<table border=\"1\" class=\"dataframe\">\n",
              "  <thead>\n",
              "    <tr style=\"text-align: right;\">\n",
              "      <th></th>\n",
              "      <th>Pclass</th>\n",
              "      <th>Sex</th>\n",
              "      <th>SibSp</th>\n",
              "      <th>Parch</th>\n",
              "      <th>Ticket</th>\n",
              "      <th>Embarked</th>\n",
              "      <th>Age_na</th>\n",
              "      <th>Fare_na</th>\n",
              "      <th>Age</th>\n",
              "      <th>Fare</th>\n",
              "      <th>Survived</th>\n",
              "    </tr>\n",
              "  </thead>\n",
              "  <tbody>\n",
              "    <tr>\n",
              "      <th>1509</th>\n",
              "      <td>3</td>\n",
              "      <td>female</td>\n",
              "      <td>1</td>\n",
              "      <td>0</td>\n",
              "      <td>9311</td>\n",
              "      <td>S</td>\n",
              "      <td>False</td>\n",
              "      <td>False</td>\n",
              "      <td>67.0</td>\n",
              "      <td>29.680000</td>\n",
              "      <td>0</td>\n",
              "    </tr>\n",
              "    <tr>\n",
              "      <th>83391</th>\n",
              "      <td>3</td>\n",
              "      <td>male</td>\n",
              "      <td>1</td>\n",
              "      <td>2</td>\n",
              "      <td>S.O.C. 23844</td>\n",
              "      <td>S</td>\n",
              "      <td>False</td>\n",
              "      <td>False</td>\n",
              "      <td>30.0</td>\n",
              "      <td>27.450001</td>\n",
              "      <td>0</td>\n",
              "    </tr>\n",
              "    <tr>\n",
              "      <th>62311</th>\n",
              "      <td>2</td>\n",
              "      <td>female</td>\n",
              "      <td>1</td>\n",
              "      <td>1</td>\n",
              "      <td>151455</td>\n",
              "      <td>C</td>\n",
              "      <td>False</td>\n",
              "      <td>False</td>\n",
              "      <td>45.0</td>\n",
              "      <td>28.690001</td>\n",
              "      <td>0</td>\n",
              "    </tr>\n",
              "  </tbody>\n",
              "</table>"
            ],
            "text/plain": [
              "<IPython.core.display.HTML object>"
            ]
          },
          "metadata": {
            "tags": []
          }
        }
      ]
    },
    {
      "cell_type": "code",
      "metadata": {
        "id": "vO9mTcchzsIs",
        "colab": {
          "base_uri": "https://localhost:8080/",
          "height": 136
        },
        "outputId": "41f6f85b-a176-4d98-e710-3969e819151b"
      },
      "source": [
        "to.xs[:3]"
      ],
      "id": "vO9mTcchzsIs",
      "execution_count": 139,
      "outputs": [
        {
          "output_type": "execute_result",
          "data": {
            "text/html": [
              "<div>\n",
              "<style scoped>\n",
              "    .dataframe tbody tr th:only-of-type {\n",
              "        vertical-align: middle;\n",
              "    }\n",
              "\n",
              "    .dataframe tbody tr th {\n",
              "        vertical-align: top;\n",
              "    }\n",
              "\n",
              "    .dataframe thead th {\n",
              "        text-align: right;\n",
              "    }\n",
              "</style>\n",
              "<table border=\"1\" class=\"dataframe\">\n",
              "  <thead>\n",
              "    <tr style=\"text-align: right;\">\n",
              "      <th></th>\n",
              "      <th>Pclass</th>\n",
              "      <th>Sex</th>\n",
              "      <th>SibSp</th>\n",
              "      <th>Parch</th>\n",
              "      <th>Ticket</th>\n",
              "      <th>Embarked</th>\n",
              "      <th>Age_na</th>\n",
              "      <th>Fare_na</th>\n",
              "      <th>Age</th>\n",
              "      <th>Fare</th>\n",
              "    </tr>\n",
              "  </thead>\n",
              "  <tbody>\n",
              "    <tr>\n",
              "      <th>1509</th>\n",
              "      <td>3</td>\n",
              "      <td>1</td>\n",
              "      <td>2</td>\n",
              "      <td>1</td>\n",
              "      <td>51792</td>\n",
              "      <td>3</td>\n",
              "      <td>1</td>\n",
              "      <td>1</td>\n",
              "      <td>1.591081</td>\n",
              "      <td>-0.204969</td>\n",
              "    </tr>\n",
              "    <tr>\n",
              "      <th>83391</th>\n",
              "      <td>3</td>\n",
              "      <td>2</td>\n",
              "      <td>2</td>\n",
              "      <td>3</td>\n",
              "      <td>68733</td>\n",
              "      <td>3</td>\n",
              "      <td>1</td>\n",
              "      <td>1</td>\n",
              "      <td>-0.464173</td>\n",
              "      <td>-0.237166</td>\n",
              "    </tr>\n",
              "    <tr>\n",
              "      <th>62311</th>\n",
              "      <td>2</td>\n",
              "      <td>1</td>\n",
              "      <td>2</td>\n",
              "      <td>2</td>\n",
              "      <td>4381</td>\n",
              "      <td>1</td>\n",
              "      <td>1</td>\n",
              "      <td>1</td>\n",
              "      <td>0.369038</td>\n",
              "      <td>-0.219263</td>\n",
              "    </tr>\n",
              "  </tbody>\n",
              "</table>\n",
              "</div>"
            ],
            "text/plain": [
              "       Pclass  Sex  SibSp  Parch  Ticket  Embarked  Age_na  Fare_na       Age  \\\n",
              "1509        3    1      2      1   51792         3       1        1  1.591081   \n",
              "83391       3    2      2      3   68733         3       1        1 -0.464173   \n",
              "62311       2    1      2      2    4381         1       1        1  0.369038   \n",
              "\n",
              "           Fare  \n",
              "1509  -0.204969  \n",
              "83391 -0.237166  \n",
              "62311 -0.219263  "
            ]
          },
          "metadata": {
            "tags": []
          },
          "execution_count": 139
        }
      ]
    },
    {
      "cell_type": "code",
      "metadata": {
        "id": "8ec160dc-1d99-44fc-a650-8e4922faba59"
      },
      "source": [
        "dls = to.dataloaders(1024)"
      ],
      "id": "8ec160dc-1d99-44fc-a650-8e4922faba59",
      "execution_count": 140,
      "outputs": []
    },
    {
      "cell_type": "code",
      "metadata": {
        "id": "fc0d48dc-dafd-471d-9845-7de8b3f36529",
        "colab": {
          "base_uri": "https://localhost:8080/"
        },
        "outputId": "aa4af33a-9515-44df-bf55-e4e92a394769"
      },
      "source": [
        "y = to.train.y\n",
        "y.min(), y.max()"
      ],
      "id": "fc0d48dc-dafd-471d-9845-7de8b3f36529",
      "execution_count": 141,
      "outputs": [
        {
          "output_type": "execute_result",
          "data": {
            "text/plain": [
              "(0, 1)"
            ]
          },
          "metadata": {
            "tags": []
          },
          "execution_count": 141
        }
      ]
    },
    {
      "cell_type": "code",
      "metadata": {
        "id": "76713f0c-f2af-4b42-bd77-4a0ee5169bbe"
      },
      "source": [
        "learn = tabular_learner(dls, layers=[500,250], metrics=accuracy)"
      ],
      "id": "76713f0c-f2af-4b42-bd77-4a0ee5169bbe",
      "execution_count": 145,
      "outputs": []
    },
    {
      "cell_type": "code",
      "metadata": {
        "id": "a8ace70c-dba8-4a30-a608-4d96cd324272",
        "colab": {
          "base_uri": "https://localhost:8080/",
          "height": 301
        },
        "outputId": "0effb752-6f93-4c2a-88b8-089e62d752a6"
      },
      "source": [
        "learn.lr_find(end_lr=1)"
      ],
      "id": "a8ace70c-dba8-4a30-a608-4d96cd324272",
      "execution_count": 146,
      "outputs": [
        {
          "output_type": "display_data",
          "data": {
            "text/html": [
              ""
            ],
            "text/plain": [
              "<IPython.core.display.HTML object>"
            ]
          },
          "metadata": {
            "tags": []
          }
        },
        {
          "output_type": "execute_result",
          "data": {
            "text/plain": [
              "SuggestedLRs(lr_min=0.023442287743091584, lr_steep=0.07585775852203369)"
            ]
          },
          "metadata": {
            "tags": []
          },
          "execution_count": 146
        },
        {
          "output_type": "display_data",
          "data": {
            "image/png": "[encoded data removed]",
            "text/plain": [
              "<Figure size 432x288 with 1 Axes>"
            ]
          },
          "metadata": {
            "tags": [],
            "needs_background": "light"
          }
        }
      ]
    },
    {
      "cell_type": "code",
      "metadata": {
        "id": "8d4925aa-8bd8-4d2a-8420-55030347398d",
        "colab": {
          "base_uri": "https://localhost:8080/",
          "height": 77
        },
        "outputId": "dc0210d7-7a19-463b-da09-efd50e3df32a"
      },
      "source": [
        "learn.fit_one_cycle(1, 1e-2) # acc: 0.76685"
      ],
      "id": "8d4925aa-8bd8-4d2a-8420-55030347398d",
      "execution_count": 147,
      "outputs": [
        {
          "output_type": "display_data",
          "data": {
            "text/html": [
              "<table border=\"1\" class=\"dataframe\">\n",
              "  <thead>\n",
              "    <tr style=\"text-align: left;\">\n",
              "      <th>epoch</th>\n",
              "      <th>train_loss</th>\n",
              "      <th>valid_loss</th>\n",
              "      <th>accuracy</th>\n",
              "      <th>time</th>\n",
              "    </tr>\n",
              "  </thead>\n",
              "  <tbody>\n",
              "    <tr>\n",
              "      <td>0</td>\n",
              "      <td>0.504926</td>\n",
              "      <td>0.493960</td>\n",
              "      <td>0.766850</td>\n",
              "      <td>00:02</td>\n",
              "    </tr>\n",
              "  </tbody>\n",
              "</table>"
            ],
            "text/plain": [
              "<IPython.core.display.HTML object>"
            ]
          },
          "metadata": {
            "tags": []
          }
        }
      ]
    },
    {
      "cell_type": "code",
      "metadata": {
        "id": "17be834c-e9de-48dd-8839-101464cb7d3f",
        "colab": {
          "base_uri": "https://localhost:8080/",
          "height": 265
        },
        "outputId": "85b43455-1f8f-4624-a2fc-fa05b8dbf11e"
      },
      "source": [
        "learn.recorder.plot_loss()"
      ],
      "id": "17be834c-e9de-48dd-8839-101464cb7d3f",
      "execution_count": 148,
      "outputs": [
        {
          "output_type": "display_data",
          "data": {
            "image/png": "[encoded data removed]",
            "text/plain": [
              "<Figure size 432x288 with 1 Axes>"
            ]
          },
          "metadata": {
            "tags": [],
            "needs_background": "light"
          }
        }
      ]
    },
    {
      "cell_type": "code",
      "metadata": {
        "id": "a95903a7-8d52-48f1-ba3b-9c7731aa84ce",
        "colab": {
          "base_uri": "https://localhost:8080/",
          "height": 840
        },
        "outputId": "c96b21d9-ceb9-4f81-e58f-305e1b7d8ec4"
      },
      "source": [
        "learn.summary()"
      ],
      "id": "a95903a7-8d52-48f1-ba3b-9c7731aa84ce",
      "execution_count": 149,
      "outputs": [
        {
          "output_type": "display_data",
          "data": {
            "text/html": [
              ""
            ],
            "text/plain": [
              "<IPython.core.display.HTML object>"
            ]
          },
          "metadata": {
            "tags": []
          }
        },
        {
          "output_type": "execute_result",
          "data": {
            "application/vnd.google.colaboratory.intrinsic+json": {
              "type": "string"
            },
            "text/plain": [
              "TabularModel (Input shape: 1024 x torch.Size([1024, 2]))\n",
              "============================================================================\n",
              "Layer (type)         Output Shape         Param #    Trainable \n",
              "============================================================================\n",
              "                     1024 x 3            \n",
              "Embedding                                 12         True      \n",
              "Embedding                                 9          True      \n",
              "____________________________________________________________________________\n",
              "                     1024 x 5            \n",
              "Embedding                                 40         True      \n",
              "Embedding                                 45         True      \n",
              "____________________________________________________________________________\n",
              "                     1024 x 600          \n",
              "Embedding                                 45199200   True      \n",
              "____________________________________________________________________________\n",
              "                     1024 x 3            \n",
              "Embedding                                 12         True      \n",
              "Embedding                                 9          True      \n",
              "Embedding                                 9          True      \n",
              "Dropout                                                        \n",
              "BatchNorm1d                               4          True      \n",
              "____________________________________________________________________________\n",
              "                     1024 x 500          \n",
              "Linear                                    313500     True      \n",
              "ReLU                                                           \n",
              "BatchNorm1d                               1000       True      \n",
              "____________________________________________________________________________\n",
              "                     1024 x 250          \n",
              "Linear                                    125000     True      \n",
              "ReLU                                                           \n",
              "BatchNorm1d                               500        True      \n",
              "____________________________________________________________________________\n",
              "                     1024 x 2            \n",
              "Linear                                    502        True      \n",
              "____________________________________________________________________________\n",
              "\n",
              "Total params: 45,639,842\n",
              "Total trainable params: 45,639,842\n",
              "Total non-trainable params: 0\n",
              "\n",
              "Optimizer used: <function Adam at 0x7f3c36501560>\n",
              "Loss function: FlattenedLoss of CrossEntropyLoss()\n",
              "\n",
              "Model unfrozen\n",
              "\n",
              "Callbacks:\n",
              "  - TrainEvalCallback\n",
              "  - Recorder\n",
              "  - ProgressCallback"
            ]
          },
          "metadata": {
            "tags": []
          },
          "execution_count": 149
        }
      ]
    },
    {
      "cell_type": "code",
      "metadata": {
        "id": "Cs2V38W71lbZ",
        "colab": {
          "base_uri": "https://localhost:8080/",
          "height": 314
        },
        "outputId": "e0794810-8c53-4844-f9ed-af870a7fca1c"
      },
      "source": [
        "learn.show_results()"
      ],
      "id": "Cs2V38W71lbZ",
      "execution_count": 150,
      "outputs": [
        {
          "output_type": "display_data",
          "data": {
            "text/html": [
              ""
            ],
            "text/plain": [
              "<IPython.core.display.HTML object>"
            ]
          },
          "metadata": {
            "tags": []
          }
        },
        {
          "output_type": "display_data",
          "data": {
            "text/html": [
              "<table border=\"1\" class=\"dataframe\">\n",
              "  <thead>\n",
              "    <tr style=\"text-align: right;\">\n",
              "      <th></th>\n",
              "      <th>Pclass</th>\n",
              "      <th>Sex</th>\n",
              "      <th>SibSp</th>\n",
              "      <th>Parch</th>\n",
              "      <th>Ticket</th>\n",
              "      <th>Embarked</th>\n",
              "      <th>Age_na</th>\n",
              "      <th>Fare_na</th>\n",
              "      <th>Age</th>\n",
              "      <th>Fare</th>\n",
              "      <th>Survived</th>\n",
              "      <th>Survived_pred</th>\n",
              "    </tr>\n",
              "  </thead>\n",
              "  <tbody>\n",
              "    <tr>\n",
              "      <th>0</th>\n",
              "      <td>2.0</td>\n",
              "      <td>2.0</td>\n",
              "      <td>1.0</td>\n",
              "      <td>1.0</td>\n",
              "      <td>17839.0</td>\n",
              "      <td>3.0</td>\n",
              "      <td>1.0</td>\n",
              "      <td>1.0</td>\n",
              "      <td>-1.019648</td>\n",
              "      <td>-0.549602</td>\n",
              "      <td>0.0</td>\n",
              "      <td>0.0</td>\n",
              "    </tr>\n",
              "    <tr>\n",
              "      <th>1</th>\n",
              "      <td>3.0</td>\n",
              "      <td>1.0</td>\n",
              "      <td>1.0</td>\n",
              "      <td>1.0</td>\n",
              "      <td>69712.0</td>\n",
              "      <td>3.0</td>\n",
              "      <td>1.0</td>\n",
              "      <td>1.0</td>\n",
              "      <td>1.091154</td>\n",
              "      <td>-0.467595</td>\n",
              "      <td>1.0</td>\n",
              "      <td>1.0</td>\n",
              "    </tr>\n",
              "    <tr>\n",
              "      <th>2</th>\n",
              "      <td>3.0</td>\n",
              "      <td>2.0</td>\n",
              "      <td>1.0</td>\n",
              "      <td>1.0</td>\n",
              "      <td>17929.0</td>\n",
              "      <td>3.0</td>\n",
              "      <td>1.0</td>\n",
              "      <td>1.0</td>\n",
              "      <td>0.424585</td>\n",
              "      <td>-0.485354</td>\n",
              "      <td>0.0</td>\n",
              "      <td>0.0</td>\n",
              "    </tr>\n",
              "    <tr>\n",
              "      <th>3</th>\n",
              "      <td>3.0</td>\n",
              "      <td>2.0</td>\n",
              "      <td>1.0</td>\n",
              "      <td>1.0</td>\n",
              "      <td>19761.0</td>\n",
              "      <td>3.0</td>\n",
              "      <td>1.0</td>\n",
              "      <td>1.0</td>\n",
              "      <td>-0.686363</td>\n",
              "      <td>-0.512064</td>\n",
              "      <td>0.0</td>\n",
              "      <td>0.0</td>\n",
              "    </tr>\n",
              "    <tr>\n",
              "      <th>4</th>\n",
              "      <td>2.0</td>\n",
              "      <td>1.0</td>\n",
              "      <td>1.0</td>\n",
              "      <td>1.0</td>\n",
              "      <td>1371.0</td>\n",
              "      <td>3.0</td>\n",
              "      <td>1.0</td>\n",
              "      <td>1.0</td>\n",
              "      <td>-1.630669</td>\n",
              "      <td>-0.485642</td>\n",
              "      <td>1.0</td>\n",
              "      <td>1.0</td>\n",
              "    </tr>\n",
              "    <tr>\n",
              "      <th>5</th>\n",
              "      <td>1.0</td>\n",
              "      <td>2.0</td>\n",
              "      <td>2.0</td>\n",
              "      <td>1.0</td>\n",
              "      <td>67255.0</td>\n",
              "      <td>3.0</td>\n",
              "      <td>1.0</td>\n",
              "      <td>1.0</td>\n",
              "      <td>1.591081</td>\n",
              "      <td>0.367205</td>\n",
              "      <td>0.0</td>\n",
              "      <td>0.0</td>\n",
              "    </tr>\n",
              "    <tr>\n",
              "      <th>6</th>\n",
              "      <td>3.0</td>\n",
              "      <td>2.0</td>\n",
              "      <td>1.0</td>\n",
              "      <td>1.0</td>\n",
              "      <td>73351.0</td>\n",
              "      <td>3.0</td>\n",
              "      <td>1.0</td>\n",
              "      <td>1.0</td>\n",
              "      <td>-0.908553</td>\n",
              "      <td>-0.540507</td>\n",
              "      <td>0.0</td>\n",
              "      <td>0.0</td>\n",
              "    </tr>\n",
              "    <tr>\n",
              "      <th>7</th>\n",
              "      <td>1.0</td>\n",
              "      <td>1.0</td>\n",
              "      <td>1.0</td>\n",
              "      <td>1.0</td>\n",
              "      <td>66833.0</td>\n",
              "      <td>3.0</td>\n",
              "      <td>1.0</td>\n",
              "      <td>1.0</td>\n",
              "      <td>-0.630816</td>\n",
              "      <td>0.553743</td>\n",
              "      <td>1.0</td>\n",
              "      <td>1.0</td>\n",
              "    </tr>\n",
              "    <tr>\n",
              "      <th>8</th>\n",
              "      <td>3.0</td>\n",
              "      <td>2.0</td>\n",
              "      <td>1.0</td>\n",
              "      <td>1.0</td>\n",
              "      <td>42846.0</td>\n",
              "      <td>3.0</td>\n",
              "      <td>1.0</td>\n",
              "      <td>1.0</td>\n",
              "      <td>1.368891</td>\n",
              "      <td>-0.507155</td>\n",
              "      <td>0.0</td>\n",
              "      <td>0.0</td>\n",
              "    </tr>\n",
              "  </tbody>\n",
              "</table>"
            ],
            "text/plain": [
              "<IPython.core.display.HTML object>"
            ]
          },
          "metadata": {
            "tags": []
          }
        }
      ]
    },
    {
      "cell_type": "markdown",
      "metadata": {
        "id": "ORuk0XtcQh7L"
      },
      "source": [
        "# Get prediction"
      ],
      "id": "ORuk0XtcQh7L"
    },
    {
      "cell_type": "code",
      "metadata": {
        "id": "gj4JowF92UvW",
        "outputId": "d6c4440f-c705-459d-ccbf-85a575a7c7a0",
        "colab": {
          "base_uri": "https://localhost:8080/",
          "height": 235
        }
      },
      "source": [
        "learn.get_preds()"
      ],
      "id": "gj4JowF92UvW",
      "execution_count": 37,
      "outputs": [
        {
          "output_type": "display_data",
          "data": {
            "text/html": [
              ""
            ],
            "text/plain": [
              "<IPython.core.display.HTML object>"
            ]
          },
          "metadata": {
            "tags": []
          }
        },
        {
          "output_type": "execute_result",
          "data": {
            "text/plain": [
              "(tensor([[0.7452, 0.2548],\n",
              "         [0.9371, 0.0629],\n",
              "         [0.5962, 0.4038],\n",
              "         ...,\n",
              "         [0.9266, 0.0734],\n",
              "         [0.9270, 0.0730],\n",
              "         [0.9402, 0.0598]]), tensor([[0],\n",
              "         [0],\n",
              "         [1],\n",
              "         ...,\n",
              "         [0],\n",
              "         [0],\n",
              "         [0]], dtype=torch.int8))"
            ]
          },
          "metadata": {
            "tags": []
          },
          "execution_count": 37
        }
      ]
    },
    {
      "cell_type": "code",
      "metadata": {
        "id": "l0eVOX392jsr"
      },
      "source": [
        "dft = pd.read_csv(path/'test.csv', low_memory=False)"
      ],
      "id": "l0eVOX392jsr",
      "execution_count": 38,
      "outputs": []
    },
    {
      "cell_type": "code",
      "metadata": {
        "id": "YZsFgRxe2qi9"
      },
      "source": [
        "dft.drop(['PassengerId', 'Name', 'Cabin'], axis=1, inplace=True)"
      ],
      "id": "YZsFgRxe2qi9",
      "execution_count": 39,
      "outputs": []
    },
    {
      "cell_type": "code",
      "metadata": {
        "id": "FtdPgwat2vyc"
      },
      "source": [
        "dl_test = learn.dls.test_dl(dft)"
      ],
      "id": "FtdPgwat2vyc",
      "execution_count": 40,
      "outputs": []
    },
    {
      "cell_type": "code",
      "metadata": {
        "id": "sV-1beUV3Cq6",
        "colab": {
          "base_uri": "https://localhost:8080/",
          "height": 17
        },
        "outputId": "ff642c7c-74b1-42a2-9a5b-80c5f6a8ae3c"
      },
      "source": [
        "probs, _ = learn.get_preds(dl=dl_test)"
      ],
      "id": "sV-1beUV3Cq6",
      "execution_count": 41,
      "outputs": [
        {
          "output_type": "display_data",
          "data": {
            "text/html": [
              ""
            ],
            "text/plain": [
              "<IPython.core.display.HTML object>"
            ]
          },
          "metadata": {
            "tags": []
          }
        }
      ]
    },
    {
      "cell_type": "code",
      "metadata": {
        "id": "kyylqyAC3Fqi"
      },
      "source": [
        "preds = torch.argmax(probs, dim=1)"
      ],
      "id": "kyylqyAC3Fqi",
      "execution_count": 42,
      "outputs": []
    },
    {
      "cell_type": "code",
      "metadata": {
        "id": "x2KcXNa23ULT",
        "colab": {
          "base_uri": "https://localhost:8080/"
        },
        "outputId": "7b42edda-98ae-4ef4-8b84-04ff483c81ed"
      },
      "source": [
        "preds.shape"
      ],
      "id": "x2KcXNa23ULT",
      "execution_count": 43,
      "outputs": [
        {
          "output_type": "execute_result",
          "data": {
            "text/plain": [
              "torch.Size([100000])"
            ]
          },
          "metadata": {
            "tags": []
          },
          "execution_count": 43
        }
      ]
    },
    {
      "cell_type": "code",
      "metadata": {
        "id": "2zyIKooZ3XIS",
        "colab": {
          "base_uri": "https://localhost:8080/"
        },
        "outputId": "d3c962ce-0e32-4119-8740-846b6d82e756"
      },
      "source": [
        "preds[:5]"
      ],
      "id": "2zyIKooZ3XIS",
      "execution_count": 44,
      "outputs": [
        {
          "output_type": "execute_result",
          "data": {
            "text/plain": [
              "tensor([0, 0, 1, 0, 1])"
            ]
          },
          "metadata": {
            "tags": []
          },
          "execution_count": 44
        }
      ]
    },
    {
      "cell_type": "code",
      "metadata": {
        "id": "GJecMMI63Z9c"
      },
      "source": [
        "df_test = pd.read_csv(path/'test.csv', low_memory=False)"
      ],
      "id": "GJecMMI63Z9c",
      "execution_count": 45,
      "outputs": []
    },
    {
      "cell_type": "code",
      "metadata": {
        "id": "-KWgKHVG37Ze"
      },
      "source": [
        "output = pd.DataFrame({'PassengerId': df_test.PassengerId, 'Survived': preds})"
      ],
      "id": "-KWgKHVG37Ze",
      "execution_count": 46,
      "outputs": []
    },
    {
      "cell_type": "code",
      "metadata": {
        "id": "5x0YHOwC4Fhg",
        "colab": {
          "base_uri": "https://localhost:8080/",
          "height": 195
        },
        "outputId": "e4ca0f3d-0a09-4244-956c-2a7cf52ae040"
      },
      "source": [
        "output.head()"
      ],
      "id": "5x0YHOwC4Fhg",
      "execution_count": 47,
      "outputs": [
        {
          "output_type": "execute_result",
          "data": {
            "text/html": [
              "<div>\n",
              "<style scoped>\n",
              "    .dataframe tbody tr th:only-of-type {\n",
              "        vertical-align: middle;\n",
              "    }\n",
              "\n",
              "    .dataframe tbody tr th {\n",
              "        vertical-align: top;\n",
              "    }\n",
              "\n",
              "    .dataframe thead th {\n",
              "        text-align: right;\n",
              "    }\n",
              "</style>\n",
              "<table border=\"1\" class=\"dataframe\">\n",
              "  <thead>\n",
              "    <tr style=\"text-align: right;\">\n",
              "      <th></th>\n",
              "      <th>PassengerId</th>\n",
              "      <th>Survived</th>\n",
              "    </tr>\n",
              "  </thead>\n",
              "  <tbody>\n",
              "    <tr>\n",
              "      <th>0</th>\n",
              "      <td>100000</td>\n",
              "      <td>0</td>\n",
              "    </tr>\n",
              "    <tr>\n",
              "      <th>1</th>\n",
              "      <td>100001</td>\n",
              "      <td>0</td>\n",
              "    </tr>\n",
              "    <tr>\n",
              "      <th>2</th>\n",
              "      <td>100002</td>\n",
              "      <td>1</td>\n",
              "    </tr>\n",
              "    <tr>\n",
              "      <th>3</th>\n",
              "      <td>100003</td>\n",
              "      <td>0</td>\n",
              "    </tr>\n",
              "    <tr>\n",
              "      <th>4</th>\n",
              "      <td>100004</td>\n",
              "      <td>1</td>\n",
              "    </tr>\n",
              "  </tbody>\n",
              "</table>\n",
              "</div>"
            ],
            "text/plain": [
              "   PassengerId  Survived\n",
              "0       100000         0\n",
              "1       100001         0\n",
              "2       100002         1\n",
              "3       100003         0\n",
              "4       100004         1"
            ]
          },
          "metadata": {
            "tags": []
          },
          "execution_count": 47
        }
      ]
    },
    {
      "cell_type": "code",
      "metadata": {
        "id": "Zv8SDuhf4Gdt"
      },
      "source": [
        "output.to_csv('fastai_R00.csv', index=False)"
      ],
      "id": "Zv8SDuhf4Gdt",
      "execution_count": 48,
      "outputs": []
    },
    {
      "cell_type": "code",
      "metadata": {
        "id": "ry44C4pi4Tub",
        "colab": {
          "base_uri": "https://localhost:8080/"
        },
        "outputId": "0b30d57e-f729-42ba-bf6c-9fa235127b1a"
      },
      "source": [
        "api.competition_submit('/content/fastai_R00.csv', message='first try', competition='tabular-playground-series-apr-2021')"
      ],
      "id": "ry44C4pi4Tub",
      "execution_count": 49,
      "outputs": [
        {
          "output_type": "stream",
          "text": [
            "100%|██████████| 879k/879k [00:02<00:00, 341kB/s] \n"
          ],
          "name": "stderr"
        },
        {
          "output_type": "execute_result",
          "data": {
            "text/plain": [
              "Successfully submitted to Tabular Playground Series - Apr 2021"
            ]
          },
          "metadata": {
            "tags": []
          },
          "execution_count": 49
        }
      ]
    },
    {
      "cell_type": "code",
      "metadata": {
        "id": "btnmKmYo4s5J"
      },
      "source": [
        ""
      ],
      "id": "btnmKmYo4s5J",
      "execution_count": 49,
      "outputs": []
    }
  ]
}